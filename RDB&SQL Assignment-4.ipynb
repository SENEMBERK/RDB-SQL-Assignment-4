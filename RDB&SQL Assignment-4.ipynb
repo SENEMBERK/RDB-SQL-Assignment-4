{
 "cells": [
  {
   "cell_type": "code",
   "execution_count": null,
   "id": "dca589ec",
   "metadata": {},
   "outputs": [],
   "source": [
    "-- Assignment-4 ---\n",
    "\n",
    "-- Create a scalar-valued function that returns the factorial of a number you gave it.\n",
    "\n",
    "CREATE FUNCTION factorial\n",
    "\t(\t\n",
    "\t\t@number INT\n",
    "\t)\n",
    "RETURNS INT\n",
    "AS\n",
    "BEGIN\n",
    "DECLARE @counter INT = 1, @result INT=1 \n",
    "WHILE (@counter <= @number)  \n",
    "BEGIN\n",
    "\tSET @result = @result * @counter\n",
    "\tSET @counter += 1\n",
    "END\n",
    "RETURN @result\n",
    "END\n",
    "\n",
    "SELECT 5 AS Number, dbo.factorial(5) AS Factorial;\n",
    "\n"
   ]
  }
 ],
 "metadata": {
  "kernelspec": {
   "display_name": "Python 3 (ipykernel)",
   "language": "python",
   "name": "python3"
  },
  "language_info": {
   "codemirror_mode": {
    "name": "ipython",
    "version": 3
   },
   "file_extension": ".py",
   "mimetype": "text/x-python",
   "name": "python",
   "nbconvert_exporter": "python",
   "pygments_lexer": "ipython3",
   "version": "3.9.12"
  }
 },
 "nbformat": 4,
 "nbformat_minor": 5
}
